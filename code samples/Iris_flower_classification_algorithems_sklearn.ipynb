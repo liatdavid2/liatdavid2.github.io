{
 "cells": [
  {
   "cell_type": "code",
   "execution_count": 4,
   "metadata": {},
   "outputs": [
    {
     "data": {
      "text/plain": [
       "['svm_kernel_rbf.joblib']"
      ]
     },
     "execution_count": 4,
     "metadata": {},
     "output_type": "execute_result"
    }
   ],
   "source": [
    "from sklearn import svm\n",
    "from sklearn import datasets\n",
    "clf = svm.SVC(kernel = 'rbf', random_state = 0)\n",
    "X, y= datasets.load_iris(return_X_y=True)\n",
    "clf.fit(X, y)\n",
    "\n",
    "from joblib import dump, load\n",
    "dump(clf, 'svm_kernel_rbf.joblib') "
   ]
  },
  {
   "cell_type": "code",
   "execution_count": 5,
   "metadata": {},
   "outputs": [
    {
     "data": {
      "text/plain": [
       "['LogisticRegression.joblib']"
      ]
     },
     "execution_count": 5,
     "metadata": {},
     "output_type": "execute_result"
    }
   ],
   "source": [
    "from sklearn.linear_model import LogisticRegression\n",
    "from sklearn import datasets\n",
    "clf = LogisticRegression(random_state = 0)\n",
    "X, y= datasets.load_iris(return_X_y=True)\n",
    "clf.fit(X, y)\n",
    "\n",
    "from joblib import dump, load\n",
    "dump(clf, 'LogisticRegression.joblib') "
   ]
  },
  {
   "cell_type": "code",
   "execution_count": 6,
   "metadata": {},
   "outputs": [
    {
     "data": {
      "text/plain": [
       "['RandomForestClassifier.joblib']"
      ]
     },
     "execution_count": 6,
     "metadata": {},
     "output_type": "execute_result"
    }
   ],
   "source": [
    "from sklearn.ensemble import RandomForestClassifier\n",
    "from sklearn import datasets\n",
    "clf = RandomForestClassifier(n_estimators=10,random_state=1)\n",
    "X, y= datasets.load_iris(return_X_y=True)\n",
    "clf.fit(X, y)\n",
    "\n",
    "from joblib import dump, load\n",
    "dump(clf, 'RandomForestClassifier.joblib') "
   ]
  },
  {
   "cell_type": "code",
   "execution_count": 17,
   "metadata": {},
   "outputs": [
    {
     "data": {
      "text/plain": [
       "['KNeighborsClassifier.joblib']"
      ]
     },
     "execution_count": 17,
     "metadata": {},
     "output_type": "execute_result"
    }
   ],
   "source": [
    "from sklearn.neighbors import KNeighborsClassifier\n",
    "from sklearn import datasets\n",
    "# todo - elbow \n",
    "clf = KNeighborsClassifier(n_neighbors=10)\n",
    "X, y= datasets.load_iris(return_X_y=True)\n",
    "clf.fit(X, y)\n",
    "\n",
    "from joblib import dump, load\n",
    "dump(clf, 'KNeighborsClassifier.joblib') "
   ]
  },
  {
   "cell_type": "code",
   "execution_count": 19,
   "metadata": {},
   "outputs": [
    {
     "data": {
      "text/plain": [
       "['naive_bayes.joblib']"
      ]
     },
     "execution_count": 19,
     "metadata": {},
     "output_type": "execute_result"
    }
   ],
   "source": [
    "from sklearn.naive_bayes import GaussianNB\n",
    "from sklearn import datasets\n",
    "from sklearn.preprocessing import MinMaxScaler\n",
    "X, y= datasets.load_iris(return_X_y=True)\n",
    "scaler = MinMaxScaler()\n",
    "X = scaler.fit_transform(X)\n",
    "clf.fit(X, y)\n",
    "clf = GaussianNB()\n",
    "\n",
    "from joblib import dump, load\n",
    "dump(clf, 'naive_bayes.joblib') "
   ]
  },
  {
   "cell_type": "code",
   "execution_count": 22,
   "metadata": {},
   "outputs": [],
   "source": [
    "def make_classification_report_confusion_matrix(xplot,yplot,classifier):\n",
    "    from sklearn.model_selection import train_test_split\n",
    "    x_train, x_test,y_train, y_test = train_test_split(xplot,yplot,test_size=0.25,random_state=42)\n",
    "    \n",
    "    classifier.fit(x_train,y_train)\n",
    "    y_pred = classifier.predict(x_test)\n",
    "    from sklearn.metrics import classification_report,confusion_matrix\n",
    "    print(confusion_matrix(y_test,y_pred))\n",
    "    print(classification_report(y_test,y_pred))"
   ]
  },
  {
   "cell_type": "code",
   "execution_count": 29,
   "metadata": {},
   "outputs": [
    {
     "name": "stdout",
     "output_type": "stream",
     "text": [
      "svm rbf 10 fold accuracies mean:::0.9666666666666666\n",
      "[[15  0  0]\n",
      " [ 0 11  0]\n",
      " [ 0  0 12]]\n",
      "             precision    recall  f1-score   support\n",
      "\n",
      "          0       1.00      1.00      1.00        15\n",
      "          1       1.00      1.00      1.00        11\n",
      "          2       1.00      1.00      1.00        12\n",
      "\n",
      "avg / total       1.00      1.00      1.00        38\n",
      "\n",
      "------------------------------------------------------------------\n",
      "\n",
      "LogisticRegression 10 fold accuracies mean:::0.8400000000000001\n",
      "[[15  0  0]\n",
      " [ 0  6  5]\n",
      " [ 0  0 12]]\n",
      "             precision    recall  f1-score   support\n",
      "\n",
      "          0       1.00      1.00      1.00        15\n",
      "          1       1.00      0.55      0.71        11\n",
      "          2       0.71      1.00      0.83        12\n",
      "\n",
      "avg / total       0.91      0.87      0.86        38\n",
      "\n",
      "------------------------------------------------------------------\n",
      "\n",
      "RandomForestClassifier 10 fold accuracies mean:::0.9533333333333334\n",
      "[[15  0  0]\n",
      " [ 0 11  0]\n",
      " [ 0  0 12]]\n",
      "             precision    recall  f1-score   support\n",
      "\n",
      "          0       1.00      1.00      1.00        15\n",
      "          1       1.00      1.00      1.00        11\n",
      "          2       1.00      1.00      1.00        12\n",
      "\n",
      "avg / total       1.00      1.00      1.00        38\n",
      "\n",
      "------------------------------------------------------------------\n",
      "\n",
      "KNeighborsClassifier 10 fold accuracies mean:::0.96\n",
      "[[15  0  0]\n",
      " [ 0 11  0]\n",
      " [ 0  0 12]]\n",
      "             precision    recall  f1-score   support\n",
      "\n",
      "          0       1.00      1.00      1.00        15\n",
      "          1       1.00      1.00      1.00        11\n",
      "          2       1.00      1.00      1.00        12\n",
      "\n",
      "avg / total       1.00      1.00      1.00        38\n",
      "\n",
      "------------------------------------------------------------------\n",
      "\n",
      "naive_bayes 10 fold accuracies mean:::0.9533333333333334\n",
      "[[15  0  0]\n",
      " [ 0 11  0]\n",
      " [ 0  0 12]]\n",
      "             precision    recall  f1-score   support\n",
      "\n",
      "          0       1.00      1.00      1.00        15\n",
      "          1       1.00      1.00      1.00        11\n",
      "          2       1.00      1.00      1.00        12\n",
      "\n",
      "avg / total       1.00      1.00      1.00        38\n",
      "\n"
     ]
    }
   ],
   "source": [
    "#check accuracies for each algorithem with 10 folds of training set\n",
    "from sklearn.metrics import classification_report,confusion_matrix\n",
    "from sklearn.model_selection import cross_val_score\n",
    "C = 1.0\n",
    "classifier = SVC(kernel = 'rbf',random_state=1,C =C)\n",
    "accuracies = cross_val_score(estimator = classifier, X = X , y= y ,cv=10)# 10 folds of training set\n",
    "print('svm rbf 10 fold accuracies mean:::'+str(accuracies.mean()) )\n",
    "make_classification_report_confusion_matrix(X,y,classifier) \n",
    "print('------------------------------------------------------------------\\n' )\n",
    "    \n",
    "C = 1.0\n",
    "classifier = LogisticRegression(random_state = 0)\n",
    "accuracies = cross_val_score(estimator = classifier, X = X , y= y ,cv=10)# 10 folds of training set\n",
    "print('LogisticRegression 10 fold accuracies mean:::'+str(accuracies.mean()) )\n",
    "make_classification_report_confusion_matrix(X,y,classifier) \n",
    "print('------------------------------------------------------------------\\n' )\n",
    "\n",
    "classifier = RandomForestClassifier(n_estimators=10,random_state=1)\n",
    "accuracies = cross_val_score(estimator = classifier, X = X , y= y ,cv=10)# 10 folds of training set\n",
    "print('RandomForestClassifier 10 fold accuracies mean:::'+str(accuracies.mean()) )\n",
    "make_classification_report_confusion_matrix(X,y,classifier) \n",
    "print('------------------------------------------------------------------\\n' )\n",
    "\n",
    "classifier = KNeighborsClassifier(n_neighbors=10)\n",
    "accuracies = cross_val_score(estimator = classifier, X = X , y= y ,cv=10)# 10 folds of training set\n",
    "print('KNeighborsClassifier 10 fold accuracies mean:::'+str(accuracies.mean()) )\n",
    "make_classification_report_confusion_matrix(X,y,classifier) \n",
    "print('------------------------------------------------------------------\\n' )\n",
    "\n",
    "classifier = GaussianNB()\n",
    "accuracies = cross_val_score(estimator = classifier, X = X , y= y ,cv=10)# 10 folds of training set\n",
    "print('naive_bayes 10 fold accuracies mean:::'+ str(accuracies.mean() ) )\n",
    "make_classification_report_confusion_matrix(X,y,classifier)   \n"
   ]
  },
  {
   "cell_type": "code",
   "execution_count": null,
   "metadata": {},
   "outputs": [],
   "source": []
  }
 ],
 "metadata": {
  "kernelspec": {
   "display_name": "Python 3",
   "language": "python",
   "name": "python3"
  },
  "language_info": {
   "codemirror_mode": {
    "name": "ipython",
    "version": 3
   },
   "file_extension": ".py",
   "mimetype": "text/x-python",
   "name": "python",
   "nbconvert_exporter": "python",
   "pygments_lexer": "ipython3",
   "version": "3.6.5"
  }
 },
 "nbformat": 4,
 "nbformat_minor": 2
}
